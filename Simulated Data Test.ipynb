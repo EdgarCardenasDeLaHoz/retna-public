{
 "cells": [
  {
   "cell_type": "code",
   "execution_count": 1,
   "id": "1c5321cb",
   "metadata": {},
   "outputs": [
    {
     "name": "stdout",
     "output_type": "stream",
     "text": [
      "C:\\Users\\eac84\\Universiteit Antwerpen\\Spark Automated Analysis - General\\OrBITS\n"
     ]
    }
   ],
   "source": [
    "import os\n",
    "os.chdir(\"..\")\n",
    "print(os.getcwd())\n"
   ]
  },
  {
   "cell_type": "code",
   "execution_count": 2,
   "id": "29eb4624",
   "metadata": {},
   "outputs": [],
   "source": [
    "%load_ext autoreload\n",
    "%load_ext line_profiler"
   ]
  },
  {
   "cell_type": "code",
   "execution_count": 3,
   "id": "ff99539e",
   "metadata": {},
   "outputs": [],
   "source": [
    "%matplotlib qt\n",
    "%autoreload 2"
   ]
  },
  {
   "cell_type": "code",
   "execution_count": 4,
   "id": "db854b22",
   "metadata": {},
   "outputs": [],
   "source": [
    "from retna.networks import *\n",
    "from retna.training import *\n",
    "from retna.data_loader import *\n",
    "from retna.view import *\n",
    "from retna.prune import *\n",
    "from retna.hook_tools import *\n",
    "from retna.simulate_data import *"
   ]
  },
  {
   "cell_type": "code",
   "execution_count": 5,
   "id": "1d1d251b",
   "metadata": {},
   "outputs": [],
   "source": [
    "import torch\n",
    "import glob as glob\n",
    "import matplotlib.pyplot as plt"
   ]
  },
  {
   "cell_type": "markdown",
   "id": "2248482f",
   "metadata": {},
   "source": [
    "## Load Model"
   ]
  },
  {
   "cell_type": "code",
   "execution_count": 54,
   "id": "481ea200",
   "metadata": {},
   "outputs": [],
   "source": [
    "h_chans = [10,10,8,8,4,4]\n",
    "model = Retna_V1(1,6, h_chans)"
   ]
  },
  {
   "cell_type": "code",
   "execution_count": 55,
   "id": "b9e8a46e",
   "metadata": {},
   "outputs": [],
   "source": [
    "SimLoader = SimDataset(5)"
   ]
  },
  {
   "cell_type": "code",
   "execution_count": 23,
   "id": "65ce5e32",
   "metadata": {},
   "outputs": [
    {
     "data": {
      "text/plain": [
       "<retna.simulate_data.SimDataset at 0x25200005340>"
      ]
     },
     "execution_count": 23,
     "metadata": {},
     "output_type": "execute_result"
    }
   ],
   "source": [
    "SimLoader"
   ]
  },
  {
   "cell_type": "code",
   "execution_count": 56,
   "id": "95091215",
   "metadata": {},
   "outputs": [
    {
     "name": "stdout",
     "output_type": "stream",
     "text": [
      "Start Loss: 0.9229706525802612\n",
      "Epoch 0/49\t..........Loss: 0.681741\tCaching improved model\t\n",
      "Epoch 1/49\t..........Loss: 0.623851\tCaching improved model\t\n",
      "Epoch 2/49\t..........Loss: 0.611456\tCaching improved model\t\n",
      "Epoch 3/49\t..........Loss: 0.539756\tCaching improved model\t\n",
      "Epoch 4/49\t..........Loss: 0.515989\tCaching improved model\t\n",
      "Epoch 5/49\t..........Loss: 0.519480\t\n",
      "Epoch 6/49\t..........Loss: 0.501731\tCaching improved model\t\n",
      "Epoch 7/49\t..........Loss: 0.478159\tCaching improved model\t\n",
      "Epoch 8/49\t..........Loss: 0.497533\t\n",
      "Epoch 9/49\t..........Loss: 0.535287\t\n",
      "Epoch 10/49\t..........Loss: 0.497666\tlr: 0.0005\t\n",
      "Epoch 11/49\t..........Loss: 0.494479\t\n",
      "Epoch 12/49\t..........Loss: 0.476390\tCaching improved model\t\n",
      "Epoch 13/49\t..........Loss: 0.477980\t\n",
      "Epoch 14/49\t..........Loss: 0.468906\tCaching improved model\t\n",
      "Epoch 15/49\t..........Loss: 0.468725\tCaching improved model\t\n",
      "Epoch 16/49\t..........Loss: 0.464299\tCaching improved model\t\n",
      "Epoch 17/49\t..........Loss: 0.474959\t\n",
      "Epoch 18/49\t..........Loss: 0.467071\t\n",
      "Epoch 19/49\t..........Loss: 0.445539\tCaching improved model\t\n",
      "Epoch 20/49\t..........Loss: 0.442134\tCaching improved model\t\n",
      "Epoch 21/49\t..........Loss: 0.442825\t\n",
      "Epoch 22/49\t..........Loss: 0.442000\tCaching improved model\t\n",
      "Epoch 23/49\t..........Loss: 0.465048\t\n",
      "Epoch 24/49\t..........Loss: 0.441295\tCaching improved model\t\n",
      "Epoch 25/49\t..........Loss: 0.434201\tCaching improved model\t\n",
      "Epoch 26/49\t..........Loss: 0.428166\tCaching improved model\t\n",
      "Epoch 27/49\t..........Loss: 0.418832\tCaching improved model\t\n",
      "Epoch 28/49\t..........Loss: 0.457862\t\n",
      "Epoch 29/49\t..........Loss: 0.410323\tCaching improved model\t\n",
      "Epoch 30/49\t..........Loss: 0.390959\tCaching improved model\t\n",
      "Epoch 31/49\t..........Loss: 0.390037\tCaching improved model\t\n",
      "Epoch 32/49\t..........Loss: 0.427321\t\n",
      "Epoch 33/49\t..........Loss: 0.366182\tCaching improved model\t\n",
      "Epoch 34/49\t..........Loss: 0.390634\t\n",
      "Epoch 35/49\t..........Loss: 0.373695\t\n",
      "Epoch 36/49\t..........Loss: 0.366634\tlr: 0.00025\t\n",
      "Epoch 37/49\t..........Loss: 0.396586\t\n",
      "Epoch 38/49\t..........Loss: 0.411322\t\n",
      "Epoch 39/49\t..........Loss: 0.395912\tlr: 0.000125\t\n",
      "Epoch 40/49\t..........Loss: 0.376636\t\n",
      "Epoch 41/49\t..........Loss: 0.392582\t\n",
      "Epoch 42/49\t..........Loss: 0.377743\tlr: 6.25e-05\t\n",
      "Epoch 43/49\t..........Loss: 0.357090\tCaching improved model\t\n",
      "Epoch 44/49\t..........Loss: 0.359444\t\n",
      "Epoch 45/49\t..........Loss: 0.376742\t\n",
      "Epoch 46/49\t..........Loss: 0.382753\tlr: 3.125e-05\t\n",
      "Epoch 47/49\t..........Loss: 0.394241\t\n",
      "Epoch 48/49\t..........Loss: 0.374322\t\n",
      "Epoch 49/49\t..........Loss: 0.347204\tCaching improved model\t\n",
      "Best val loss: 0.347204\n"
     ]
    },
    {
     "data": {
      "text/plain": [
       "Retna_V1(\n",
       "  (blocks): ModuleList(\n",
       "    (0): Sequential(\n",
       "      (0): Conv2d(1, 11, kernel_size=(3, 3), stride=(1, 1), padding=(1, 1))\n",
       "      (1): LeakyReLU(negative_slope=0.01, inplace=True)\n",
       "      (2): Conv2d(11, 10, kernel_size=(3, 3), stride=(2, 2), padding=(1, 1))\n",
       "      (3): LeakyReLU(negative_slope=0.01, inplace=True)\n",
       "    )\n",
       "    (1): Sequential(\n",
       "      (0): Conv2d(11, 21, kernel_size=(3, 3), stride=(1, 1), padding=(1, 1))\n",
       "      (1): LeakyReLU(negative_slope=0.01, inplace=True)\n",
       "      (2): Conv2d(21, 10, kernel_size=(3, 3), stride=(2, 2), padding=(1, 1))\n",
       "      (3): LeakyReLU(negative_slope=0.01, inplace=True)\n",
       "    )\n",
       "    (2): Sequential(\n",
       "      (0): Conv2d(11, 19, kernel_size=(3, 3), stride=(1, 1), padding=(1, 1))\n",
       "      (1): LeakyReLU(negative_slope=0.01, inplace=True)\n",
       "      (2): Conv2d(19, 8, kernel_size=(3, 3), stride=(2, 2), padding=(1, 1))\n",
       "      (3): LeakyReLU(negative_slope=0.01, inplace=True)\n",
       "    )\n",
       "    (3): Sequential(\n",
       "      (0): Conv2d(9, 17, kernel_size=(3, 3), stride=(1, 1), padding=(1, 1))\n",
       "      (1): LeakyReLU(negative_slope=0.01, inplace=True)\n",
       "      (2): Conv2d(17, 8, kernel_size=(3, 3), stride=(2, 2), padding=(1, 1))\n",
       "      (3): LeakyReLU(negative_slope=0.01, inplace=True)\n",
       "    )\n",
       "    (4): Sequential(\n",
       "      (0): Conv2d(9, 13, kernel_size=(3, 3), stride=(1, 1), padding=(1, 1))\n",
       "      (1): LeakyReLU(negative_slope=0.01, inplace=True)\n",
       "      (2): Conv2d(13, 4, kernel_size=(3, 3), stride=(2, 2), padding=(1, 1))\n",
       "      (3): LeakyReLU(negative_slope=0.01, inplace=True)\n",
       "    )\n",
       "    (5): Sequential(\n",
       "      (0): Conv2d(5, 9, kernel_size=(3, 3), stride=(1, 1), padding=(1, 1))\n",
       "      (1): LeakyReLU(negative_slope=0.01, inplace=True)\n",
       "      (2): Conv2d(9, 4, kernel_size=(3, 3), stride=(2, 2), padding=(1, 1))\n",
       "      (3): LeakyReLU(negative_slope=0.01, inplace=True)\n",
       "    )\n",
       "  )\n",
       "  (maxpool): AvgPool2d(kernel_size=2, stride=2, padding=0)\n",
       "  (conv_last): Conv2d(45, 6, kernel_size=(1, 1), stride=(1, 1))\n",
       ")"
      ]
     },
     "execution_count": 56,
     "metadata": {},
     "output_type": "execute_result"
    }
   ],
   "source": [
    "train_model_x( model, SimLoader, num_epochs=50 )"
   ]
  },
  {
   "cell_type": "code",
   "execution_count": 13,
   "id": "a10e33a3",
   "metadata": {},
   "outputs": [
    {
     "ename": "AttributeError",
     "evalue": "",
     "output_type": "error",
     "traceback": [
      "\u001b[1;31m---------------------------------------------------------------------------\u001b[0m",
      "\u001b[1;31mAttributeError\u001b[0m                            Traceback (most recent call last)",
      "\u001b[1;32m<ipython-input-13-7d5eb9dfdac7>\u001b[0m in \u001b[0;36m<module>\u001b[1;34m\u001b[0m\n\u001b[1;32m----> 1\u001b[1;33m \u001b[0mprint_comparisons_x\u001b[0m\u001b[1;33m(\u001b[0m\u001b[0mmodel\u001b[0m\u001b[1;33m,\u001b[0m\u001b[0mSimLoader\u001b[0m\u001b[1;33m)\u001b[0m\u001b[1;33m\u001b[0m\u001b[1;33m\u001b[0m\u001b[0m\n\u001b[0m",
      "\u001b[1;32m~\\Universiteit Antwerpen\\Spark Automated Analysis - General\\OrBITS\\retna\\view.py\u001b[0m in \u001b[0;36mprint_comparisons_x\u001b[1;34m(Loader, model, n)\u001b[0m\n\u001b[0;32m    163\u001b[0m     \u001b[0mplt\u001b[0m\u001b[1;33m.\u001b[0m\u001b[0mclose\u001b[0m\u001b[1;33m(\u001b[0m\u001b[1;34m\"all\"\u001b[0m\u001b[1;33m)\u001b[0m\u001b[1;33m\u001b[0m\u001b[1;33m\u001b[0m\u001b[0m\n\u001b[0;32m    164\u001b[0m \u001b[1;33m\u001b[0m\u001b[0m\n\u001b[1;32m--> 165\u001b[1;33m     \u001b[0mmodel\u001b[0m \u001b[1;33m=\u001b[0m \u001b[0mmodel\u001b[0m\u001b[1;33m.\u001b[0m\u001b[0mto\u001b[0m\u001b[1;33m(\u001b[0m\u001b[1;34m\"cpu\"\u001b[0m\u001b[1;33m)\u001b[0m\u001b[1;33m\u001b[0m\u001b[1;33m\u001b[0m\u001b[0m\n\u001b[0m\u001b[0;32m    166\u001b[0m \u001b[1;33m\u001b[0m\u001b[0m\n\u001b[0;32m    167\u001b[0m     \u001b[1;32mfor\u001b[0m \u001b[0mX\u001b[0m \u001b[1;32min\u001b[0m \u001b[0mLoader\u001b[0m\u001b[1;33m:\u001b[0m\u001b[1;33m\u001b[0m\u001b[1;33m\u001b[0m\u001b[0m\n",
      "\u001b[1;32m~\\anaconda3\\lib\\site-packages\\torch\\utils\\data\\dataset.py\u001b[0m in \u001b[0;36m__getattr__\u001b[1;34m(self, attribute_name)\u001b[0m\n\u001b[0;32m     81\u001b[0m             \u001b[1;32mreturn\u001b[0m \u001b[0mfunction\u001b[0m\u001b[1;33m\u001b[0m\u001b[1;33m\u001b[0m\u001b[0m\n\u001b[0;32m     82\u001b[0m         \u001b[1;32melse\u001b[0m\u001b[1;33m:\u001b[0m\u001b[1;33m\u001b[0m\u001b[1;33m\u001b[0m\u001b[0m\n\u001b[1;32m---> 83\u001b[1;33m             \u001b[1;32mraise\u001b[0m \u001b[0mAttributeError\u001b[0m\u001b[1;33m\u001b[0m\u001b[1;33m\u001b[0m\u001b[0m\n\u001b[0m\u001b[0;32m     84\u001b[0m \u001b[1;33m\u001b[0m\u001b[0m\n\u001b[0;32m     85\u001b[0m     \u001b[1;33m@\u001b[0m\u001b[0mclassmethod\u001b[0m\u001b[1;33m\u001b[0m\u001b[1;33m\u001b[0m\u001b[0m\n",
      "\u001b[1;31mAttributeError\u001b[0m: "
     ]
    }
   ],
   "source": [
    "print_comparisons_x(model,SimLoader)"
   ]
  },
  {
   "cell_type": "code",
   "execution_count": 57,
   "id": "82c74bda",
   "metadata": {},
   "outputs": [
    {
     "name": "stdout",
     "output_type": "stream",
     "text": [
      "tensor(0.3654, grad_fn=<MeanBackward0>)\n",
      "tensor(0.3625, grad_fn=<MeanBackward0>)\n",
      "tensor(0.3928, grad_fn=<MeanBackward0>)\n",
      "tensor(0.3476, grad_fn=<MeanBackward0>)\n",
      "tensor(0.3658, grad_fn=<MeanBackward0>)\n",
      "tensor(0.3342, grad_fn=<MeanBackward0>)\n",
      "tensor(0.3443, grad_fn=<MeanBackward0>)\n",
      "tensor(0.3293, grad_fn=<MeanBackward0>)\n",
      "tensor(0.4199, grad_fn=<MeanBackward0>)\n",
      "tensor(0.3218, grad_fn=<MeanBackward0>)\n",
      "tensor(0.4006, grad_fn=<MeanBackward0>)\n",
      "tensor(0.3568, grad_fn=<MeanBackward0>)\n",
      "tensor(0.3578, grad_fn=<MeanBackward0>)\n",
      "tensor(0.3504, grad_fn=<MeanBackward0>)\n",
      "tensor(0.3813, grad_fn=<MeanBackward0>)\n",
      "tensor(0.3348, grad_fn=<MeanBackward0>)\n",
      "tensor(0.3563, grad_fn=<MeanBackward0>)\n",
      "tensor(0.3271, grad_fn=<MeanBackward0>)\n",
      "tensor(0.4118, grad_fn=<MeanBackward0>)\n",
      "tensor(0.3453, grad_fn=<MeanBackward0>)\n",
      "tensor(0.3869, grad_fn=<MeanBackward0>)\n",
      "tensor(0.4060, grad_fn=<MeanBackward0>)\n",
      "tensor(0.3378, grad_fn=<MeanBackward0>)\n",
      "tensor(0.3727, grad_fn=<MeanBackward0>)\n",
      "tensor(0.3303, grad_fn=<MeanBackward0>)\n",
      "0.0 1.0\n"
     ]
    }
   ],
   "source": [
    "print_mosaic_x(SimLoader,model,  n=5)"
   ]
  },
  {
   "cell_type": "markdown",
   "id": "9b4c2b0d",
   "metadata": {},
   "source": [
    "## Load Simulated Data into H5 Format"
   ]
  },
  {
   "cell_type": "code",
   "execution_count": 24,
   "id": "e65efd9e",
   "metadata": {},
   "outputs": [],
   "source": [
    "image, mask = generate_random_data(120, 120, count=500)\n",
    "#image = image.transpose(0,3,1,2)[:,0:1]"
   ]
  },
  {
   "cell_type": "code",
   "execution_count": 58,
   "id": "ae7d74a3",
   "metadata": {},
   "outputs": [
    {
     "data": {
      "text/plain": [
       "<matplotlib.image.AxesImage at 0x2523cf53070>"
      ]
     },
     "execution_count": 58,
     "metadata": {},
     "output_type": "execute_result"
    }
   ],
   "source": [
    "plt.figure()\n",
    "plt.imshow(image[0,0])\n",
    "plt.figure()\n",
    "plt.imshow(mask[0,2])"
   ]
  },
  {
   "cell_type": "code",
   "execution_count": 33,
   "id": "d1f6bcb0",
   "metadata": {},
   "outputs": [],
   "source": [
    "root = \"\"  ## Add desination folder here\n",
    "filename = root + \"example_data.h5\""
   ]
  },
  {
   "cell_type": "code",
   "execution_count": 34,
   "id": "51fabaf1",
   "metadata": {},
   "outputs": [],
   "source": [
    "import h5py \n",
    "with h5py.File(filename, 'w') as fh:\n",
    "    dset = fh.create_dataset(\"input\", data=image , compression=\"lzf\" )\n",
    "    dset = fh.create_dataset(\"target\", data=mask , compression=\"lzf\" )"
   ]
  },
  {
   "cell_type": "markdown",
   "id": "86873a12",
   "metadata": {},
   "source": [
    "## Load Data from H5 Format"
   ]
  },
  {
   "cell_type": "code",
   "execution_count": 39,
   "id": "21c25069",
   "metadata": {},
   "outputs": [],
   "source": [
    "data = H5_Handler([filename], datasets=[\"input\",\"target\"])\n",
    "Loader = DataLoader(data)"
   ]
  },
  {
   "cell_type": "code",
   "execution_count": 47,
   "id": "51ac03ed",
   "metadata": {},
   "outputs": [],
   "source": [
    "## Specify what header the target data is in. \n",
    "Loader.dataset.dataset_names[1]= \"target\"  \n",
    "Loader.dataset.channels[1] = None"
   ]
  },
  {
   "cell_type": "code",
   "execution_count": null,
   "id": "4d5ada24",
   "metadata": {},
   "outputs": [],
   "source": [
    "## Specify what header the target data is in. "
   ]
  },
  {
   "cell_type": "code",
   "execution_count": 41,
   "id": "71f3a49b",
   "metadata": {},
   "outputs": [],
   "source": [
    "model = model.to(\"cpu\")\n",
    "Loader.dataset.device = \"cpu\""
   ]
  },
  {
   "cell_type": "code",
   "execution_count": 60,
   "id": "ab41dc7f",
   "metadata": {},
   "outputs": [
    {
     "name": "stdout",
     "output_type": "stream",
     "text": [
      "Start Loss: 0.5858020010173962\n",
      "Epoch 0/9\t....................Loss: 0.584026\tCaching improved model\t\n",
      "Epoch 1/9\t....................Loss: 0.580010\tCaching improved model\t\n",
      "Epoch 2/9\t....................Loss: 0.574997\tCaching improved model\t\n",
      "Epoch 3/9\t....................Loss: 0.570901\tCaching improved model\t\n",
      "Epoch 4/9\t....................Loss: 0.564390\tCaching improved model\t\n",
      "Epoch 5/9\t....................Loss: 0.559503\tCaching improved model\t\n",
      "Epoch 6/9\t....................Loss: 0.555679\tCaching improved model\t\n",
      "Epoch 7/9\t....................Loss: 0.549265\tCaching improved model\t\n",
      "Epoch 8/9\t....................Loss: 0.544060\tCaching improved model\t\n",
      "Epoch 9/9\t....................Loss: 0.538227\tCaching improved model\t\n",
      "Best val loss: 0.538227\n"
     ]
    },
    {
     "data": {
      "text/plain": [
       "Retna_V1(\n",
       "  (blocks): ModuleList(\n",
       "    (0): Sequential(\n",
       "      (0): Conv2d(1, 11, kernel_size=(3, 3), stride=(1, 1), padding=(1, 1))\n",
       "      (1): LeakyReLU(negative_slope=0.01, inplace=True)\n",
       "      (2): Conv2d(11, 10, kernel_size=(3, 3), stride=(2, 2), padding=(1, 1))\n",
       "      (3): LeakyReLU(negative_slope=0.01, inplace=True)\n",
       "    )\n",
       "    (1): Sequential(\n",
       "      (0): Conv2d(11, 21, kernel_size=(3, 3), stride=(1, 1), padding=(1, 1))\n",
       "      (1): LeakyReLU(negative_slope=0.01, inplace=True)\n",
       "      (2): Conv2d(21, 10, kernel_size=(3, 3), stride=(2, 2), padding=(1, 1))\n",
       "      (3): LeakyReLU(negative_slope=0.01, inplace=True)\n",
       "    )\n",
       "    (2): Sequential(\n",
       "      (0): Conv2d(11, 19, kernel_size=(3, 3), stride=(1, 1), padding=(1, 1))\n",
       "      (1): LeakyReLU(negative_slope=0.01, inplace=True)\n",
       "      (2): Conv2d(19, 8, kernel_size=(3, 3), stride=(2, 2), padding=(1, 1))\n",
       "      (3): LeakyReLU(negative_slope=0.01, inplace=True)\n",
       "    )\n",
       "    (3): Sequential(\n",
       "      (0): Conv2d(9, 17, kernel_size=(3, 3), stride=(1, 1), padding=(1, 1))\n",
       "      (1): LeakyReLU(negative_slope=0.01, inplace=True)\n",
       "      (2): Conv2d(17, 8, kernel_size=(3, 3), stride=(2, 2), padding=(1, 1))\n",
       "      (3): LeakyReLU(negative_slope=0.01, inplace=True)\n",
       "    )\n",
       "    (4): Sequential(\n",
       "      (0): Conv2d(9, 13, kernel_size=(3, 3), stride=(1, 1), padding=(1, 1))\n",
       "      (1): LeakyReLU(negative_slope=0.01, inplace=True)\n",
       "      (2): Conv2d(13, 4, kernel_size=(3, 3), stride=(2, 2), padding=(1, 1))\n",
       "      (3): LeakyReLU(negative_slope=0.01, inplace=True)\n",
       "    )\n",
       "    (5): Sequential(\n",
       "      (0): Conv2d(5, 9, kernel_size=(3, 3), stride=(1, 1), padding=(1, 1))\n",
       "      (1): LeakyReLU(negative_slope=0.01, inplace=True)\n",
       "      (2): Conv2d(9, 4, kernel_size=(3, 3), stride=(2, 2), padding=(1, 1))\n",
       "      (3): LeakyReLU(negative_slope=0.01, inplace=True)\n",
       "    )\n",
       "  )\n",
       "  (maxpool): AvgPool2d(kernel_size=2, stride=2, padding=0)\n",
       "  (conv_last): Conv2d(45, 6, kernel_size=(1, 1), stride=(1, 1))\n",
       ")"
      ]
     },
     "execution_count": 60,
     "metadata": {},
     "output_type": "execute_result"
    }
   ],
   "source": [
    "train_model( model, Loader, num_epochs=10 )"
   ]
  },
  {
   "cell_type": "code",
   "execution_count": 45,
   "id": "4e3ac13b",
   "metadata": {},
   "outputs": [
    {
     "ename": "AttributeError",
     "evalue": "'Retna_V1' object has no attribute 'dataset'",
     "output_type": "error",
     "traceback": [
      "\u001b[1;31m---------------------------------------------------------------------------\u001b[0m",
      "\u001b[1;31mAttributeError\u001b[0m                            Traceback (most recent call last)",
      "\u001b[1;32m<ipython-input-45-dc25e605a81c>\u001b[0m in \u001b[0;36m<module>\u001b[1;34m\u001b[0m\n\u001b[1;32m----> 1\u001b[1;33m \u001b[0mprint_comparisons\u001b[0m\u001b[1;33m(\u001b[0m\u001b[0mmodel\u001b[0m\u001b[1;33m,\u001b[0m\u001b[0mLoader\u001b[0m\u001b[1;33m)\u001b[0m\u001b[1;33m\u001b[0m\u001b[1;33m\u001b[0m\u001b[0m\n\u001b[0m",
      "\u001b[1;32m~\\Universiteit Antwerpen\\Spark Automated Analysis - General\\OrBITS\\retna\\view.py\u001b[0m in \u001b[0;36mprint_comparisons\u001b[1;34m(Loader, model, n_samples, save)\u001b[0m\n\u001b[0;32m    180\u001b[0m     \u001b[0mplt\u001b[0m\u001b[1;33m.\u001b[0m\u001b[0mclose\u001b[0m\u001b[1;33m(\u001b[0m\u001b[1;34m\"all\"\u001b[0m\u001b[1;33m)\u001b[0m\u001b[1;33m\u001b[0m\u001b[1;33m\u001b[0m\u001b[0m\n\u001b[0;32m    181\u001b[0m     \u001b[1;31m################## Remove turn into object method or something\u001b[0m\u001b[1;33m\u001b[0m\u001b[1;33m\u001b[0m\u001b[1;33m\u001b[0m\u001b[0m\n\u001b[1;32m--> 182\u001b[1;33m     \u001b[0mLoader\u001b[0m\u001b[1;33m.\u001b[0m\u001b[0mdataset\u001b[0m\u001b[1;33m.\u001b[0m\u001b[0mselection_size\u001b[0m \u001b[1;33m=\u001b[0m \u001b[0mn_samples\u001b[0m\u001b[1;33m\u001b[0m\u001b[1;33m\u001b[0m\u001b[0m\n\u001b[0m\u001b[0;32m    183\u001b[0m     \u001b[0mLoader\u001b[0m\u001b[1;33m.\u001b[0m\u001b[0mdataset\u001b[0m\u001b[1;33m.\u001b[0m\u001b[0mrandom_selection\u001b[0m \u001b[1;33m=\u001b[0m \u001b[1;32mFalse\u001b[0m\u001b[1;33m\u001b[0m\u001b[1;33m\u001b[0m\u001b[0m\n\u001b[0;32m    184\u001b[0m     \u001b[0mLoader\u001b[0m\u001b[1;33m.\u001b[0m\u001b[0mdataset\u001b[0m\u001b[1;33m.\u001b[0m\u001b[0mrandomize\u001b[0m \u001b[1;33m=\u001b[0m \u001b[1;32mFalse\u001b[0m\u001b[1;33m\u001b[0m\u001b[1;33m\u001b[0m\u001b[0m\n",
      "\u001b[1;32m~\\anaconda3\\lib\\site-packages\\torch\\nn\\modules\\module.py\u001b[0m in \u001b[0;36m__getattr__\u001b[1;34m(self, name)\u001b[0m\n\u001b[0;32m   1175\u001b[0m             \u001b[1;32mif\u001b[0m \u001b[0mname\u001b[0m \u001b[1;32min\u001b[0m \u001b[0mmodules\u001b[0m\u001b[1;33m:\u001b[0m\u001b[1;33m\u001b[0m\u001b[1;33m\u001b[0m\u001b[0m\n\u001b[0;32m   1176\u001b[0m                 \u001b[1;32mreturn\u001b[0m \u001b[0mmodules\u001b[0m\u001b[1;33m[\u001b[0m\u001b[0mname\u001b[0m\u001b[1;33m]\u001b[0m\u001b[1;33m\u001b[0m\u001b[1;33m\u001b[0m\u001b[0m\n\u001b[1;32m-> 1177\u001b[1;33m         raise AttributeError(\"'{}' object has no attribute '{}'\".format(\n\u001b[0m\u001b[0;32m   1178\u001b[0m             type(self).__name__, name))\n\u001b[0;32m   1179\u001b[0m \u001b[1;33m\u001b[0m\u001b[0m\n",
      "\u001b[1;31mAttributeError\u001b[0m: 'Retna_V1' object has no attribute 'dataset'"
     ]
    }
   ],
   "source": [
    "print_comparisons(model,Loader)"
   ]
  },
  {
   "cell_type": "code",
   "execution_count": 61,
   "id": "24c97768",
   "metadata": {},
   "outputs": [
    {
     "name": "stdout",
     "output_type": "stream",
     "text": [
      "[58]\n",
      "tensor(0.2943, grad_fn=<MeanBackward0>)\n",
      "[194]\n",
      "tensor(0.3707, grad_fn=<MeanBackward0>)\n",
      "[272]\n",
      "tensor(0.2831, grad_fn=<MeanBackward0>)\n",
      "[275]\n",
      "tensor(0.2986, grad_fn=<MeanBackward0>)\n",
      "[304]\n",
      "tensor(0.2177, grad_fn=<MeanBackward0>)\n",
      "[4]\n",
      "tensor(0.3129, grad_fn=<MeanBackward0>)\n",
      "[201]\n",
      "tensor(0.3117, grad_fn=<MeanBackward0>)\n",
      "[284]\n",
      "tensor(0.3645, grad_fn=<MeanBackward0>)\n",
      "[151]\n",
      "tensor(0.3552, grad_fn=<MeanBackward0>)\n",
      "[131]\n",
      "tensor(0.2210, grad_fn=<MeanBackward0>)\n",
      "[292]\n",
      "tensor(0.2145, grad_fn=<MeanBackward0>)\n",
      "[412]\n",
      "tensor(0.2665, grad_fn=<MeanBackward0>)\n",
      "[144]\n",
      "tensor(0.2094, grad_fn=<MeanBackward0>)\n",
      "[105]\n",
      "tensor(0.3752, grad_fn=<MeanBackward0>)\n",
      "[219]\n",
      "tensor(0.2837, grad_fn=<MeanBackward0>)\n",
      "[274]\n",
      "tensor(0.2813, grad_fn=<MeanBackward0>)\n",
      "[451]\n",
      "tensor(0.3743, grad_fn=<MeanBackward0>)\n",
      "[273]\n",
      "tensor(0.2746, grad_fn=<MeanBackward0>)\n",
      "[303]\n",
      "tensor(0.2271, grad_fn=<MeanBackward0>)\n",
      "[128]\n",
      "tensor(0.3010, grad_fn=<MeanBackward0>)\n",
      "[234]\n",
      "tensor(0.3295, grad_fn=<MeanBackward0>)\n",
      "[321]\n",
      "tensor(0.2421, grad_fn=<MeanBackward0>)\n",
      "[284]\n",
      "tensor(0.3645, grad_fn=<MeanBackward0>)\n",
      "[290]\n",
      "tensor(0.3361, grad_fn=<MeanBackward0>)\n",
      "[491]\n",
      "tensor(0.3969, grad_fn=<MeanBackward0>)\n",
      "[250]\n",
      "tensor(0.2999, grad_fn=<MeanBackward0>)\n",
      "[286]\n",
      "tensor(0.3988, grad_fn=<MeanBackward0>)\n",
      "[471]\n",
      "tensor(0.2276, grad_fn=<MeanBackward0>)\n",
      "[478]\n",
      "tensor(0.2200, grad_fn=<MeanBackward0>)\n",
      "[424]\n",
      "tensor(0.3152, grad_fn=<MeanBackward0>)\n",
      "[328]\n",
      "tensor(0.3450, grad_fn=<MeanBackward0>)\n",
      "[348]\n",
      "tensor(0.3465, grad_fn=<MeanBackward0>)\n",
      "[388]\n",
      "tensor(0.2630, grad_fn=<MeanBackward0>)\n",
      "[249]\n",
      "tensor(0.2232, grad_fn=<MeanBackward0>)\n",
      "[450]\n",
      "tensor(0.3354, grad_fn=<MeanBackward0>)\n",
      "[210]\n",
      "tensor(0.2683, grad_fn=<MeanBackward0>)\n",
      "[482]\n",
      "tensor(0.2627, grad_fn=<MeanBackward0>)\n",
      "[212]\n",
      "tensor(0.2671, grad_fn=<MeanBackward0>)\n",
      "[41]\n",
      "tensor(0.2824, grad_fn=<MeanBackward0>)\n",
      "[261]\n",
      "tensor(0.3316, grad_fn=<MeanBackward0>)\n",
      "[308]\n",
      "tensor(0.2683, grad_fn=<MeanBackward0>)\n",
      "[199]\n",
      "tensor(0.2783, grad_fn=<MeanBackward0>)\n",
      "[35]\n",
      "tensor(0.2323, grad_fn=<MeanBackward0>)\n",
      "[276]\n",
      "tensor(0.3018, grad_fn=<MeanBackward0>)\n",
      "[122]\n",
      "tensor(0.3382, grad_fn=<MeanBackward0>)\n",
      "[46]\n",
      "tensor(0.4176, grad_fn=<MeanBackward0>)\n",
      "[108]\n",
      "tensor(0.3001, grad_fn=<MeanBackward0>)\n",
      "[313]\n",
      "tensor(0.3201, grad_fn=<MeanBackward0>)\n",
      "[157]\n",
      "tensor(0.2895, grad_fn=<MeanBackward0>)\n",
      "[368]\n",
      "tensor(0.2759, grad_fn=<MeanBackward0>)\n"
     ]
    }
   ],
   "source": [
    "print_mosaic(Loader,model,m=5,n=10)"
   ]
  },
  {
   "cell_type": "markdown",
   "id": "1eb258eb",
   "metadata": {},
   "source": [
    "## Load Data from Tiff Format"
   ]
  },
  {
   "cell_type": "code",
   "execution_count": null,
   "id": "05e38a56",
   "metadata": {},
   "outputs": [],
   "source": [
    "#wip"
   ]
  }
 ],
 "metadata": {
  "kernelspec": {
   "display_name": "Python 3",
   "language": "python",
   "name": "python3"
  },
  "language_info": {
   "codemirror_mode": {
    "name": "ipython",
    "version": 3
   },
   "file_extension": ".py",
   "mimetype": "text/x-python",
   "name": "python",
   "nbconvert_exporter": "python",
   "pygments_lexer": "ipython3",
   "version": "3.8.8"
  }
 },
 "nbformat": 4,
 "nbformat_minor": 5
}
