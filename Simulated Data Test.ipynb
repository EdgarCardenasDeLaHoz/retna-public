{
 "cells": [
  {
   "cell_type": "code",
   "execution_count": null,
   "id": "1c5321cb",
   "metadata": {},
   "outputs": [],
   "source": [
    "import os\n",
    "os.chdir(\"..\")\n",
    "print(os.getcwd())\n"
   ]
  },
  {
   "cell_type": "code",
   "execution_count": null,
   "id": "29eb4624",
   "metadata": {},
   "outputs": [],
   "source": [
    "%load_ext autoreload\n",
    "%load_ext line_profiler"
   ]
  },
  {
   "cell_type": "code",
   "execution_count": null,
   "id": "ff99539e",
   "metadata": {},
   "outputs": [],
   "source": [
    "%matplotlib qt\n",
    "%autoreload 2"
   ]
  },
  {
   "cell_type": "code",
   "execution_count": null,
   "id": "db854b22",
   "metadata": {},
   "outputs": [],
   "source": [
    "from retna.networks import *\n",
    "from retna.training import *\n",
    "from retna.data_loader import *\n",
    "from retna.view import *\n",
    "from retna.prune import *\n",
    "from retna.hook_tools import *\n",
    "from retna.simulate_data import *"
   ]
  },
  {
   "cell_type": "code",
   "execution_count": null,
   "id": "1d1d251b",
   "metadata": {},
   "outputs": [],
   "source": [
    "import torch\n",
    "import glob as glob\n",
    "import matplotlib.pyplot as plt"
   ]
  },
  {
   "cell_type": "markdown",
   "id": "2248482f",
   "metadata": {},
   "source": [
    "## Load Model"
   ]
  },
  {
   "cell_type": "code",
   "execution_count": 238,
   "id": "481ea200",
   "metadata": {},
   "outputs": [],
   "source": [
    "h_chans = [30,30,20,20,20,20]\n",
    "model = Retna_V1(1,6, h_chans)"
   ]
  },
  {
   "cell_type": "code",
   "execution_count": null,
   "id": "b9e8a46e",
   "metadata": {},
   "outputs": [],
   "source": [
    "SimLoader = SimDataset(5)"
   ]
  },
  {
   "cell_type": "code",
   "execution_count": null,
   "id": "65ce5e32",
   "metadata": {},
   "outputs": [],
   "source": [
    "x,y = next(iter(SimLoader))"
   ]
  },
  {
   "cell_type": "code",
   "execution_count": null,
   "id": "983c4b02",
   "metadata": {},
   "outputs": [],
   "source": [
    "plt.figure()\n",
    "plt.imshow(x[0,0])\n",
    "plt.figure()\n",
    "plt.imshow(y[0,2], cmap=\"gray\")"
   ]
  },
  {
   "cell_type": "code",
   "execution_count": null,
   "id": "95091215",
   "metadata": {},
   "outputs": [],
   "source": [
    "train_model_x( model, SimLoader, num_epochs=50 )"
   ]
  },
  {
   "cell_type": "code",
   "execution_count": null,
   "id": "13f5988e",
   "metadata": {},
   "outputs": [],
   "source": [
    "%lprun -f print_mosaic_x print_mosaic_x(SimLoader,model,  n=5)"
   ]
  },
  {
   "cell_type": "code",
   "execution_count": null,
   "id": "a10e33a3",
   "metadata": {},
   "outputs": [],
   "source": [
    "print_comparisons_x(model,SimLoader)"
   ]
  },
  {
   "cell_type": "code",
   "execution_count": null,
   "id": "82c74bda",
   "metadata": {},
   "outputs": [],
   "source": [
    "print_mosaic_x(SimLoader,model,  n=5)"
   ]
  },
  {
   "cell_type": "markdown",
   "id": "9b4c2b0d",
   "metadata": {},
   "source": [
    "## Load Simulated Data into H5 Format"
   ]
  },
  {
   "cell_type": "code",
   "execution_count": null,
   "id": "e65efd9e",
   "metadata": {},
   "outputs": [],
   "source": [
    "image, mask = generate_random_data(120, 120, count=500)\n",
    "#image = image.transpose(0,3,1,2)[:,0:1]"
   ]
  },
  {
   "cell_type": "code",
   "execution_count": null,
   "id": "ae7d74a3",
   "metadata": {},
   "outputs": [],
   "source": [
    "plt.figure()\n",
    "plt.imshow(image[0,0])\n",
    "plt.figure()\n",
    "plt.imshow(mask[0,2])"
   ]
  },
  {
   "cell_type": "code",
   "execution_count": null,
   "id": "d1f6bcb0",
   "metadata": {},
   "outputs": [],
   "source": [
    "root = \"\"  ## Add desination folder here\n",
    "filename = root + \"example_data.h5\""
   ]
  },
  {
   "cell_type": "code",
   "execution_count": null,
   "id": "51fabaf1",
   "metadata": {},
   "outputs": [],
   "source": [
    "import h5py \n",
    "with h5py.File(filename, 'w') as fh:\n",
    "    dset = fh.create_dataset(\"input\", data=image , compression=\"lzf\" )\n",
    "    dset = fh.create_dataset(\"target\", data=mask , compression=\"lzf\" )"
   ]
  },
  {
   "cell_type": "markdown",
   "id": "86873a12",
   "metadata": {},
   "source": [
    "## Load Data from H5 Format"
   ]
  },
  {
   "cell_type": "code",
   "execution_count": null,
   "id": "21c25069",
   "metadata": {},
   "outputs": [],
   "source": [
    "data = H5_Handler([filename], datasets=[\"input\",\"target\"])\n",
    "Loader = DataLoader(data)"
   ]
  },
  {
   "cell_type": "code",
   "execution_count": null,
   "id": "51ac03ed",
   "metadata": {},
   "outputs": [],
   "source": [
    "## Specify what header the target data is in. \n",
    "Loader.dataset.dataset_names[1]= \"target\"  \n",
    "Loader.dataset.channels[1] = None"
   ]
  },
  {
   "cell_type": "code",
   "execution_count": null,
   "id": "4d5ada24",
   "metadata": {},
   "outputs": [],
   "source": [
    "## Specify what header the target data is in. "
   ]
  },
  {
   "cell_type": "code",
   "execution_count": null,
   "id": "71f3a49b",
   "metadata": {},
   "outputs": [],
   "source": [
    "model = model.to(\"cpu\")\n",
    "Loader.dataset.device = \"cpu\""
   ]
  },
  {
   "cell_type": "code",
   "execution_count": null,
   "id": "ab41dc7f",
   "metadata": {},
   "outputs": [],
   "source": [
    "train_model( model, Loader, num_epochs=10 )"
   ]
  },
  {
   "cell_type": "code",
   "execution_count": null,
   "id": "4e3ac13b",
   "metadata": {},
   "outputs": [],
   "source": [
    "print_comparisons(model,Loader)"
   ]
  },
  {
   "cell_type": "code",
   "execution_count": null,
   "id": "24c97768",
   "metadata": {},
   "outputs": [],
   "source": [
    "print_mosaic(Loader,model,m=5,n=10)"
   ]
  },
  {
   "cell_type": "markdown",
   "id": "1eb258eb",
   "metadata": {},
   "source": [
    "## Load Data from Tiff Format"
   ]
  },
  {
   "cell_type": "code",
   "execution_count": null,
   "id": "05e38a56",
   "metadata": {},
   "outputs": [],
   "source": [
    "#wip"
   ]
  },
  {
   "cell_type": "markdown",
   "id": "4836d785",
   "metadata": {},
   "source": [
    "## Load MNIST EXAMPLE"
   ]
  },
  {
   "cell_type": "code",
   "execution_count": null,
   "id": "6c85eb0a",
   "metadata": {},
   "outputs": [],
   "source": [
    "import torch\n",
    "import torchvision.datasets as datasets \n",
    "from torchvision.transforms import transforms"
   ]
  },
  {
   "cell_type": "code",
   "execution_count": null,
   "id": "a8198663",
   "metadata": {},
   "outputs": [],
   "source": [
    "mnist = datasets.MNIST(root='./data', train=True, download=False, transform=transforms.ToTensor())\n",
    "loader =torch.utils.data.DataLoader(dataset=mnist, batch_size=100, shuffle=True)"
   ]
  },
  {
   "cell_type": "code",
   "execution_count": null,
   "id": "51cd0d4a",
   "metadata": {},
   "outputs": [],
   "source": [
    "x,y = next(iter(loader))\n",
    "plt.imshow(x[15,0])"
   ]
  },
  {
   "cell_type": "code",
   "execution_count": 242,
   "id": "41d3be1a",
   "metadata": {},
   "outputs": [],
   "source": [
    "h_chans = [30,30,30,20,20,20]\n",
    "model = Retna_V1(1,10, h_chans)"
   ]
  },
  {
   "cell_type": "code",
   "execution_count": null,
   "id": "2658f407",
   "metadata": {},
   "outputs": [],
   "source": []
  },
  {
   "cell_type": "code",
   "execution_count": 208,
   "id": "5728030e",
   "metadata": {},
   "outputs": [],
   "source": [
    "def onehot(y):\n",
    "  truth = np.zeros((len(y),10))\n",
    "  for n in range(len(truth)):\n",
    "    truth[n,y[n]] = 1\n",
    "\n",
    "  truth = torch.Tensor(truth)\n",
    "  truth = truth[...,None,None]\n",
    "\n",
    "  return truth\n"
   ]
  },
  {
   "cell_type": "code",
   "execution_count": 243,
   "id": "6f5288d2",
   "metadata": {},
   "outputs": [],
   "source": [
    "optimizer = optim.Adam(model.parameters(), lr=1e-3)"
   ]
  },
  {
   "cell_type": "code",
   "execution_count": 244,
   "id": "221ca48c",
   "metadata": {},
   "outputs": [
    {
     "name": "stdout",
     "output_type": "stream",
     "text": [
      "tensor(0.6126)\n",
      "tensor(0.5328)\n",
      "tensor(0.4856)\n",
      "tensor(0.3757)\n",
      "tensor(0.3175)\n",
      "tensor(0.2085)\n",
      "tensor(0.1895)\n",
      "tensor(0.1914)\n",
      "tensor(0.1932)\n",
      "tensor(0.1912)\n",
      "tensor(0.1961)\n",
      "tensor(0.1987)\n",
      "tensor(0.1898)\n",
      "tensor(0.1900)\n",
      "tensor(0.1862)\n",
      "tensor(0.2063)\n",
      "tensor(0.1920)\n",
      "tensor(0.1966)\n",
      "tensor(0.1959)\n",
      "tensor(0.1936)\n",
      "tensor(0.1942)\n",
      "tensor(0.1849)\n",
      "tensor(0.1969)\n",
      "tensor(0.1948)\n",
      "tensor(0.1959)\n",
      "tensor(0.1910)\n",
      "tensor(0.1832)\n",
      "tensor(0.1901)\n",
      "tensor(0.1883)\n",
      "tensor(0.1790)\n",
      "tensor(0.1923)\n",
      "tensor(0.1905)\n",
      "tensor(0.1887)\n",
      "tensor(0.1900)\n",
      "tensor(0.1807)\n",
      "tensor(0.1928)\n",
      "tensor(0.1848)\n",
      "tensor(0.1876)\n",
      "tensor(0.1876)\n",
      "tensor(0.1859)\n",
      "tensor(0.1809)\n",
      "tensor(0.1886)\n",
      "tensor(0.1788)\n",
      "tensor(0.1883)\n",
      "tensor(0.1849)\n",
      "tensor(0.1913)\n",
      "tensor(0.1810)\n",
      "tensor(0.1874)\n",
      "tensor(0.1856)\n",
      "tensor(0.1906)\n",
      "tensor(0.1820)\n",
      "tensor(0.1731)\n",
      "tensor(0.1798)\n",
      "tensor(0.1919)\n",
      "tensor(0.1936)\n",
      "tensor(0.1794)\n",
      "tensor(0.1757)\n",
      "tensor(0.1844)\n",
      "tensor(0.1862)\n",
      "tensor(0.1895)\n",
      "tensor(0.1857)\n",
      "tensor(0.1894)\n",
      "tensor(0.1762)\n",
      "tensor(0.1834)\n",
      "tensor(0.1739)\n",
      "tensor(0.1833)\n",
      "tensor(0.1791)\n",
      "tensor(0.1869)\n",
      "tensor(0.1848)\n",
      "tensor(0.1731)\n",
      "tensor(0.1827)\n",
      "tensor(0.1826)\n",
      "tensor(0.1827)\n",
      "tensor(0.1826)\n",
      "tensor(0.1847)\n",
      "tensor(0.1744)\n",
      "tensor(0.1788)\n",
      "tensor(0.1747)\n",
      "tensor(0.1870)\n",
      "tensor(0.1888)\n",
      "tensor(0.1749)\n",
      "tensor(0.1847)\n",
      "tensor(0.1887)\n",
      "tensor(0.1807)\n",
      "tensor(0.1788)\n",
      "tensor(0.1825)\n",
      "tensor(0.1806)\n",
      "tensor(0.1863)\n",
      "tensor(0.1646)\n",
      "tensor(0.1805)\n",
      "tensor(0.1824)\n",
      "tensor(0.1783)\n",
      "tensor(0.1785)\n",
      "tensor(0.1843)\n",
      "tensor(0.1964)\n",
      "tensor(0.1824)\n",
      "tensor(0.1703)\n",
      "tensor(0.1883)\n",
      "tensor(0.1743)\n",
      "tensor(0.1923)\n",
      "tensor(0.1783)\n",
      "tensor(0.1822)\n",
      "tensor(0.1802)\n",
      "tensor(0.1762)\n",
      "tensor(0.1702)\n",
      "tensor(0.1722)\n",
      "tensor(0.1841)\n",
      "tensor(0.1742)\n",
      "tensor(0.1782)\n",
      "tensor(0.1642)\n",
      "tensor(0.1782)\n",
      "tensor(0.1682)\n",
      "tensor(0.1821)\n",
      "tensor(0.1781)\n",
      "tensor(0.1722)\n",
      "tensor(0.1881)\n",
      "tensor(0.1881)\n",
      "tensor(0.1821)\n",
      "tensor(0.1701)\n",
      "tensor(0.1781)\n",
      "tensor(0.1721)\n",
      "tensor(0.1801)\n",
      "tensor(0.1761)\n",
      "tensor(0.1741)\n",
      "tensor(0.1761)\n",
      "tensor(0.1861)\n",
      "tensor(0.1781)\n",
      "tensor(0.1701)\n",
      "tensor(0.1821)\n",
      "tensor(0.1801)\n",
      "tensor(0.1821)\n",
      "tensor(0.1781)\n",
      "tensor(0.1841)\n",
      "tensor(0.1841)\n",
      "tensor(0.1641)\n",
      "tensor(0.1881)\n",
      "tensor(0.1861)\n",
      "tensor(0.1821)\n",
      "tensor(0.1841)\n",
      "tensor(0.1821)\n",
      "tensor(0.1781)\n",
      "tensor(0.1861)\n",
      "tensor(0.1741)\n",
      "tensor(0.1801)\n",
      "tensor(0.1801)\n",
      "tensor(0.1881)\n",
      "tensor(0.1861)\n",
      "tensor(0.1761)\n",
      "tensor(0.1841)\n",
      "tensor(0.1781)\n",
      "tensor(0.1821)\n",
      "tensor(0.1801)\n",
      "tensor(0.1701)\n",
      "tensor(0.1781)\n",
      "tensor(0.1801)\n",
      "tensor(0.1781)\n",
      "tensor(0.1741)\n",
      "tensor(0.1781)\n",
      "tensor(0.1840)\n",
      "tensor(0.1781)\n",
      "tensor(0.1761)\n",
      "tensor(0.1800)\n",
      "tensor(0.1761)\n",
      "tensor(0.1721)\n",
      "tensor(0.1880)\n",
      "tensor(0.1841)\n",
      "tensor(0.1961)\n",
      "tensor(0.1641)\n",
      "tensor(0.1900)\n",
      "tensor(0.1740)\n",
      "tensor(0.1681)\n",
      "tensor(0.1860)\n",
      "tensor(0.1740)\n",
      "tensor(0.1860)\n",
      "tensor(0.1821)\n",
      "tensor(0.1860)\n",
      "tensor(0.1840)\n",
      "tensor(0.1920)\n",
      "tensor(0.1880)\n",
      "tensor(0.1760)\n",
      "tensor(0.1800)\n",
      "tensor(0.1800)\n",
      "tensor(0.1800)\n",
      "tensor(0.1820)\n",
      "tensor(0.1800)\n",
      "tensor(0.1860)\n",
      "tensor(0.1780)\n",
      "tensor(0.1860)\n",
      "tensor(0.1840)\n",
      "tensor(0.1741)\n",
      "tensor(0.1860)\n",
      "tensor(0.1920)\n",
      "tensor(0.1840)\n",
      "tensor(0.1821)\n",
      "tensor(0.1820)\n",
      "tensor(0.1880)\n",
      "tensor(0.1740)\n",
      "tensor(0.1820)\n",
      "tensor(0.1880)\n",
      "tensor(0.1760)\n",
      "tensor(0.1760)\n",
      "tensor(0.1800)\n",
      "tensor(0.1780)\n",
      "tensor(0.1780)\n",
      "tensor(0.1721)\n",
      "tensor(0.1840)\n",
      "tensor(0.1761)\n",
      "tensor(0.1700)\n",
      "tensor(0.1821)\n",
      "tensor(0.1720)\n",
      "tensor(0.1761)\n",
      "tensor(0.1680)\n",
      "tensor(0.1801)\n",
      "tensor(0.1781)\n",
      "tensor(0.1821)\n",
      "tensor(0.1720)\n",
      "tensor(0.1800)\n",
      "tensor(0.1821)\n",
      "tensor(0.1860)\n",
      "tensor(0.1720)\n",
      "tensor(0.1680)\n",
      "tensor(0.1780)\n",
      "tensor(0.1840)\n",
      "tensor(0.1760)\n",
      "tensor(0.1820)\n",
      "tensor(0.1920)\n",
      "tensor(0.1860)\n",
      "tensor(0.1840)\n",
      "tensor(0.1841)\n",
      "tensor(0.1820)\n",
      "tensor(0.1781)\n",
      "tensor(0.1760)\n",
      "tensor(0.1900)\n",
      "tensor(0.1801)\n",
      "tensor(0.1821)\n",
      "tensor(0.1781)\n",
      "tensor(0.1821)\n",
      "tensor(0.1821)\n",
      "tensor(0.1801)\n",
      "tensor(0.1840)\n",
      "tensor(0.1841)\n",
      "tensor(0.1920)\n",
      "tensor(0.1760)\n",
      "tensor(0.1761)\n",
      "tensor(0.1741)\n",
      "tensor(0.1822)\n",
      "tensor(0.1782)\n",
      "tensor(0.1803)\n",
      "tensor(0.1843)\n",
      "tensor(0.1803)\n",
      "tensor(0.1863)\n",
      "tensor(0.1643)\n",
      "tensor(0.1843)\n",
      "tensor(0.1802)\n",
      "tensor(0.1862)\n",
      "tensor(0.1742)\n",
      "tensor(0.1821)\n",
      "tensor(0.1841)\n",
      "tensor(0.1801)\n",
      "tensor(0.1681)\n",
      "tensor(0.1823)\n",
      "tensor(0.1823)\n",
      "tensor(0.1864)\n",
      "tensor(0.1785)\n",
      "tensor(0.1707)\n",
      "tensor(0.1847)\n",
      "tensor(0.1848)\n",
      "tensor(0.1888)\n",
      "tensor(0.1808)\n",
      "tensor(0.1809)\n",
      "tensor(0.1788)\n",
      "tensor(0.1788)\n",
      "tensor(0.1847)\n",
      "tensor(0.1787)\n"
     ]
    },
    {
     "ename": "KeyboardInterrupt",
     "evalue": "",
     "output_type": "error",
     "traceback": [
      "\u001b[1;31m---------------------------------------------------------------------------\u001b[0m",
      "\u001b[1;31mKeyboardInterrupt\u001b[0m                         Traceback (most recent call last)",
      "\u001b[1;32m<ipython-input-244-ff7c0a06a8a3>\u001b[0m in \u001b[0;36m<module>\u001b[1;34m\u001b[0m\n\u001b[0;32m      3\u001b[0m   \u001b[0moptimizer\u001b[0m\u001b[1;33m.\u001b[0m\u001b[0mzero_grad\u001b[0m\u001b[1;33m(\u001b[0m\u001b[1;33m)\u001b[0m\u001b[1;33m\u001b[0m\u001b[1;33m\u001b[0m\u001b[0m\n\u001b[0;32m      4\u001b[0m   \u001b[0mx\u001b[0m\u001b[1;33m,\u001b[0m\u001b[0my\u001b[0m \u001b[1;33m=\u001b[0m \u001b[0mnext\u001b[0m\u001b[1;33m(\u001b[0m\u001b[0miter\u001b[0m\u001b[1;33m(\u001b[0m\u001b[0mloader\u001b[0m\u001b[1;33m)\u001b[0m\u001b[1;33m)\u001b[0m\u001b[1;33m\u001b[0m\u001b[1;33m\u001b[0m\u001b[0m\n\u001b[1;32m----> 5\u001b[1;33m   \u001b[0mpred\u001b[0m \u001b[1;33m=\u001b[0m \u001b[0mmodel\u001b[0m\u001b[1;33m(\u001b[0m\u001b[0mx\u001b[0m\u001b[1;33m)\u001b[0m\u001b[1;33m\u001b[0m\u001b[1;33m\u001b[0m\u001b[0m\n\u001b[0m\u001b[0;32m      6\u001b[0m   \u001b[0mpred\u001b[0m \u001b[1;33m=\u001b[0m \u001b[0mpred\u001b[0m\u001b[1;33m.\u001b[0m\u001b[0mmean\u001b[0m\u001b[1;33m(\u001b[0m\u001b[0maxis\u001b[0m\u001b[1;33m=\u001b[0m\u001b[1;33m(\u001b[0m\u001b[1;36m2\u001b[0m\u001b[1;33m,\u001b[0m\u001b[1;36m3\u001b[0m\u001b[1;33m)\u001b[0m\u001b[1;33m,\u001b[0m \u001b[0mkeepdim\u001b[0m\u001b[1;33m=\u001b[0m\u001b[1;32mTrue\u001b[0m\u001b[1;33m)\u001b[0m\u001b[1;33m\u001b[0m\u001b[1;33m\u001b[0m\u001b[0m\n\u001b[0;32m      7\u001b[0m   \u001b[0mtruth\u001b[0m \u001b[1;33m=\u001b[0m \u001b[0monehot\u001b[0m\u001b[1;33m(\u001b[0m\u001b[0my\u001b[0m\u001b[1;33m)\u001b[0m\u001b[1;33m\u001b[0m\u001b[1;33m\u001b[0m\u001b[0m\n",
      "\u001b[1;32mc:\\Users\\eac84\\anaconda3\\lib\\site-packages\\torch\\nn\\modules\\module.py\u001b[0m in \u001b[0;36m_call_impl\u001b[1;34m(self, *input, **kwargs)\u001b[0m\n\u001b[0;32m   1100\u001b[0m         if not (self._backward_hooks or self._forward_hooks or self._forward_pre_hooks or _global_backward_hooks\n\u001b[0;32m   1101\u001b[0m                 or _global_forward_hooks or _global_forward_pre_hooks):\n\u001b[1;32m-> 1102\u001b[1;33m             \u001b[1;32mreturn\u001b[0m \u001b[0mforward_call\u001b[0m\u001b[1;33m(\u001b[0m\u001b[1;33m*\u001b[0m\u001b[0minput\u001b[0m\u001b[1;33m,\u001b[0m \u001b[1;33m**\u001b[0m\u001b[0mkwargs\u001b[0m\u001b[1;33m)\u001b[0m\u001b[1;33m\u001b[0m\u001b[1;33m\u001b[0m\u001b[0m\n\u001b[0m\u001b[0;32m   1103\u001b[0m         \u001b[1;31m# Do not call functions when jit is used\u001b[0m\u001b[1;33m\u001b[0m\u001b[1;33m\u001b[0m\u001b[1;33m\u001b[0m\u001b[0m\n\u001b[0;32m   1104\u001b[0m         \u001b[0mfull_backward_hooks\u001b[0m\u001b[1;33m,\u001b[0m \u001b[0mnon_full_backward_hooks\u001b[0m \u001b[1;33m=\u001b[0m \u001b[1;33m[\u001b[0m\u001b[1;33m]\u001b[0m\u001b[1;33m,\u001b[0m \u001b[1;33m[\u001b[0m\u001b[1;33m]\u001b[0m\u001b[1;33m\u001b[0m\u001b[1;33m\u001b[0m\u001b[0m\n",
      "\u001b[1;32mc:\\Users\\eac84\\Documents\\retna\\networks.py\u001b[0m in \u001b[0;36mforward\u001b[1;34m(self, x_in)\u001b[0m\n\u001b[0;32m    155\u001b[0m         \u001b[1;32mfor\u001b[0m \u001b[0mn\u001b[0m\u001b[1;33m,\u001b[0m \u001b[0mblock\u001b[0m \u001b[1;32min\u001b[0m \u001b[0menumerate\u001b[0m\u001b[1;33m(\u001b[0m\u001b[0mself\u001b[0m\u001b[1;33m.\u001b[0m\u001b[0mblocks\u001b[0m\u001b[1;33m)\u001b[0m\u001b[1;33m:\u001b[0m\u001b[1;33m\u001b[0m\u001b[1;33m\u001b[0m\u001b[0m\n\u001b[0;32m    156\u001b[0m \u001b[1;33m\u001b[0m\u001b[0m\n\u001b[1;32m--> 157\u001b[1;33m             \u001b[0mx_next\u001b[0m \u001b[1;33m=\u001b[0m \u001b[0mblock\u001b[0m\u001b[1;33m(\u001b[0m\u001b[0mx_next\u001b[0m\u001b[1;33m)\u001b[0m\u001b[1;33m\u001b[0m\u001b[1;33m\u001b[0m\u001b[0m\n\u001b[0m\u001b[0;32m    158\u001b[0m             \u001b[0mx_out\u001b[0m \u001b[1;33m=\u001b[0m \u001b[0mF\u001b[0m\u001b[1;33m.\u001b[0m\u001b[0minterpolate\u001b[0m\u001b[1;33m(\u001b[0m\u001b[0mx_next\u001b[0m\u001b[1;33m,\u001b[0m \u001b[0msize\u001b[0m\u001b[1;33m=\u001b[0m\u001b[0mx_in\u001b[0m\u001b[1;33m.\u001b[0m\u001b[0mshape\u001b[0m\u001b[1;33m[\u001b[0m\u001b[1;36m2\u001b[0m\u001b[1;33m:\u001b[0m\u001b[1;33m]\u001b[0m\u001b[1;33m,\u001b[0m \u001b[0mmode\u001b[0m\u001b[1;33m=\u001b[0m\u001b[1;34m'bilinear'\u001b[0m\u001b[1;33m,\u001b[0m \u001b[0malign_corners\u001b[0m\u001b[1;33m=\u001b[0m\u001b[1;32mFalse\u001b[0m\u001b[1;33m)\u001b[0m\u001b[1;33m\u001b[0m\u001b[1;33m\u001b[0m\u001b[0m\n\u001b[0;32m    159\u001b[0m             \u001b[0mx_in2\u001b[0m \u001b[1;33m=\u001b[0m \u001b[0mF\u001b[0m\u001b[1;33m.\u001b[0m\u001b[0minterpolate\u001b[0m\u001b[1;33m(\u001b[0m\u001b[0mx_in\u001b[0m\u001b[1;33m,\u001b[0m \u001b[0msize\u001b[0m\u001b[1;33m=\u001b[0m\u001b[0mx_next\u001b[0m\u001b[1;33m.\u001b[0m\u001b[0mshape\u001b[0m\u001b[1;33m[\u001b[0m\u001b[1;36m2\u001b[0m\u001b[1;33m:\u001b[0m\u001b[1;33m]\u001b[0m\u001b[1;33m,\u001b[0m \u001b[0mmode\u001b[0m\u001b[1;33m=\u001b[0m\u001b[1;34m'bilinear'\u001b[0m\u001b[1;33m,\u001b[0m \u001b[0malign_corners\u001b[0m\u001b[1;33m=\u001b[0m\u001b[1;32mFalse\u001b[0m\u001b[1;33m)\u001b[0m\u001b[1;33m\u001b[0m\u001b[1;33m\u001b[0m\u001b[0m\n",
      "\u001b[1;32mc:\\Users\\eac84\\anaconda3\\lib\\site-packages\\torch\\nn\\modules\\module.py\u001b[0m in \u001b[0;36m_call_impl\u001b[1;34m(self, *input, **kwargs)\u001b[0m\n\u001b[0;32m   1100\u001b[0m         if not (self._backward_hooks or self._forward_hooks or self._forward_pre_hooks or _global_backward_hooks\n\u001b[0;32m   1101\u001b[0m                 or _global_forward_hooks or _global_forward_pre_hooks):\n\u001b[1;32m-> 1102\u001b[1;33m             \u001b[1;32mreturn\u001b[0m \u001b[0mforward_call\u001b[0m\u001b[1;33m(\u001b[0m\u001b[1;33m*\u001b[0m\u001b[0minput\u001b[0m\u001b[1;33m,\u001b[0m \u001b[1;33m**\u001b[0m\u001b[0mkwargs\u001b[0m\u001b[1;33m)\u001b[0m\u001b[1;33m\u001b[0m\u001b[1;33m\u001b[0m\u001b[0m\n\u001b[0m\u001b[0;32m   1103\u001b[0m         \u001b[1;31m# Do not call functions when jit is used\u001b[0m\u001b[1;33m\u001b[0m\u001b[1;33m\u001b[0m\u001b[1;33m\u001b[0m\u001b[0m\n\u001b[0;32m   1104\u001b[0m         \u001b[0mfull_backward_hooks\u001b[0m\u001b[1;33m,\u001b[0m \u001b[0mnon_full_backward_hooks\u001b[0m \u001b[1;33m=\u001b[0m \u001b[1;33m[\u001b[0m\u001b[1;33m]\u001b[0m\u001b[1;33m,\u001b[0m \u001b[1;33m[\u001b[0m\u001b[1;33m]\u001b[0m\u001b[1;33m\u001b[0m\u001b[1;33m\u001b[0m\u001b[0m\n",
      "\u001b[1;32mc:\\Users\\eac84\\anaconda3\\lib\\site-packages\\torch\\nn\\modules\\container.py\u001b[0m in \u001b[0;36mforward\u001b[1;34m(self, input)\u001b[0m\n\u001b[0;32m    139\u001b[0m     \u001b[1;32mdef\u001b[0m \u001b[0mforward\u001b[0m\u001b[1;33m(\u001b[0m\u001b[0mself\u001b[0m\u001b[1;33m,\u001b[0m \u001b[0minput\u001b[0m\u001b[1;33m)\u001b[0m\u001b[1;33m:\u001b[0m\u001b[1;33m\u001b[0m\u001b[1;33m\u001b[0m\u001b[0m\n\u001b[0;32m    140\u001b[0m         \u001b[1;32mfor\u001b[0m \u001b[0mmodule\u001b[0m \u001b[1;32min\u001b[0m \u001b[0mself\u001b[0m\u001b[1;33m:\u001b[0m\u001b[1;33m\u001b[0m\u001b[1;33m\u001b[0m\u001b[0m\n\u001b[1;32m--> 141\u001b[1;33m             \u001b[0minput\u001b[0m \u001b[1;33m=\u001b[0m \u001b[0mmodule\u001b[0m\u001b[1;33m(\u001b[0m\u001b[0minput\u001b[0m\u001b[1;33m)\u001b[0m\u001b[1;33m\u001b[0m\u001b[1;33m\u001b[0m\u001b[0m\n\u001b[0m\u001b[0;32m    142\u001b[0m         \u001b[1;32mreturn\u001b[0m \u001b[0minput\u001b[0m\u001b[1;33m\u001b[0m\u001b[1;33m\u001b[0m\u001b[0m\n\u001b[0;32m    143\u001b[0m \u001b[1;33m\u001b[0m\u001b[0m\n",
      "\u001b[1;32mc:\\Users\\eac84\\anaconda3\\lib\\site-packages\\torch\\nn\\modules\\module.py\u001b[0m in \u001b[0;36m_call_impl\u001b[1;34m(self, *input, **kwargs)\u001b[0m\n\u001b[0;32m   1100\u001b[0m         if not (self._backward_hooks or self._forward_hooks or self._forward_pre_hooks or _global_backward_hooks\n\u001b[0;32m   1101\u001b[0m                 or _global_forward_hooks or _global_forward_pre_hooks):\n\u001b[1;32m-> 1102\u001b[1;33m             \u001b[1;32mreturn\u001b[0m \u001b[0mforward_call\u001b[0m\u001b[1;33m(\u001b[0m\u001b[1;33m*\u001b[0m\u001b[0minput\u001b[0m\u001b[1;33m,\u001b[0m \u001b[1;33m**\u001b[0m\u001b[0mkwargs\u001b[0m\u001b[1;33m)\u001b[0m\u001b[1;33m\u001b[0m\u001b[1;33m\u001b[0m\u001b[0m\n\u001b[0m\u001b[0;32m   1103\u001b[0m         \u001b[1;31m# Do not call functions when jit is used\u001b[0m\u001b[1;33m\u001b[0m\u001b[1;33m\u001b[0m\u001b[1;33m\u001b[0m\u001b[0m\n\u001b[0;32m   1104\u001b[0m         \u001b[0mfull_backward_hooks\u001b[0m\u001b[1;33m,\u001b[0m \u001b[0mnon_full_backward_hooks\u001b[0m \u001b[1;33m=\u001b[0m \u001b[1;33m[\u001b[0m\u001b[1;33m]\u001b[0m\u001b[1;33m,\u001b[0m \u001b[1;33m[\u001b[0m\u001b[1;33m]\u001b[0m\u001b[1;33m\u001b[0m\u001b[1;33m\u001b[0m\u001b[0m\n",
      "\u001b[1;32mc:\\Users\\eac84\\anaconda3\\lib\\site-packages\\torch\\nn\\modules\\conv.py\u001b[0m in \u001b[0;36mforward\u001b[1;34m(self, input)\u001b[0m\n\u001b[0;32m    444\u001b[0m \u001b[1;33m\u001b[0m\u001b[0m\n\u001b[0;32m    445\u001b[0m     \u001b[1;32mdef\u001b[0m \u001b[0mforward\u001b[0m\u001b[1;33m(\u001b[0m\u001b[0mself\u001b[0m\u001b[1;33m,\u001b[0m \u001b[0minput\u001b[0m\u001b[1;33m:\u001b[0m \u001b[0mTensor\u001b[0m\u001b[1;33m)\u001b[0m \u001b[1;33m->\u001b[0m \u001b[0mTensor\u001b[0m\u001b[1;33m:\u001b[0m\u001b[1;33m\u001b[0m\u001b[1;33m\u001b[0m\u001b[0m\n\u001b[1;32m--> 446\u001b[1;33m         \u001b[1;32mreturn\u001b[0m \u001b[0mself\u001b[0m\u001b[1;33m.\u001b[0m\u001b[0m_conv_forward\u001b[0m\u001b[1;33m(\u001b[0m\u001b[0minput\u001b[0m\u001b[1;33m,\u001b[0m \u001b[0mself\u001b[0m\u001b[1;33m.\u001b[0m\u001b[0mweight\u001b[0m\u001b[1;33m,\u001b[0m \u001b[0mself\u001b[0m\u001b[1;33m.\u001b[0m\u001b[0mbias\u001b[0m\u001b[1;33m)\u001b[0m\u001b[1;33m\u001b[0m\u001b[1;33m\u001b[0m\u001b[0m\n\u001b[0m\u001b[0;32m    447\u001b[0m \u001b[1;33m\u001b[0m\u001b[0m\n\u001b[0;32m    448\u001b[0m \u001b[1;32mclass\u001b[0m \u001b[0mConv3d\u001b[0m\u001b[1;33m(\u001b[0m\u001b[0m_ConvNd\u001b[0m\u001b[1;33m)\u001b[0m\u001b[1;33m:\u001b[0m\u001b[1;33m\u001b[0m\u001b[1;33m\u001b[0m\u001b[0m\n",
      "\u001b[1;32mc:\\Users\\eac84\\anaconda3\\lib\\site-packages\\torch\\nn\\modules\\conv.py\u001b[0m in \u001b[0;36m_conv_forward\u001b[1;34m(self, input, weight, bias)\u001b[0m\n\u001b[0;32m    440\u001b[0m                             \u001b[0mweight\u001b[0m\u001b[1;33m,\u001b[0m \u001b[0mbias\u001b[0m\u001b[1;33m,\u001b[0m \u001b[0mself\u001b[0m\u001b[1;33m.\u001b[0m\u001b[0mstride\u001b[0m\u001b[1;33m,\u001b[0m\u001b[1;33m\u001b[0m\u001b[1;33m\u001b[0m\u001b[0m\n\u001b[0;32m    441\u001b[0m                             _pair(0), self.dilation, self.groups)\n\u001b[1;32m--> 442\u001b[1;33m         return F.conv2d(input, weight, bias, self.stride,\n\u001b[0m\u001b[0;32m    443\u001b[0m                         self.padding, self.dilation, self.groups)\n\u001b[0;32m    444\u001b[0m \u001b[1;33m\u001b[0m\u001b[0m\n",
      "\u001b[1;31mKeyboardInterrupt\u001b[0m: "
     ]
    }
   ],
   "source": [
    "for e in range(1000):\n",
    "\n",
    "  optimizer.zero_grad()\n",
    "  x,y = next(iter(loader))\n",
    "  pred = model(x)\n",
    "  pred = pred.mean(axis=(2,3), keepdim=True)\n",
    "  truth = onehot(y)\n",
    "  loss = dice_loss(pred,truth).mean()\n",
    "  loss.backward()\n",
    "  optimizer.step()\n",
    "\n",
    "  print(loss.detach())"
   ]
  },
  {
   "cell_type": "code",
   "execution_count": 225,
   "id": "dc7541d1",
   "metadata": {},
   "outputs": [],
   "source": [
    "pred = model(x)\n",
    "pred = pred.mean(axis=(2,3), keepdim=True)"
   ]
  },
  {
   "cell_type": "code",
   "execution_count": 247,
   "id": "66e946ea",
   "metadata": {},
   "outputs": [
    {
     "name": "stdout",
     "output_type": "stream",
     "text": [
      "tensor([[[0.0000]],\n",
      "\n",
      "        [[0.0000]],\n",
      "\n",
      "        [[-0.0000]],\n",
      "\n",
      "        [[-0.0000]],\n",
      "\n",
      "        [[0.0000]],\n",
      "\n",
      "        [[-0.0000]],\n",
      "\n",
      "        [[0.0000]],\n",
      "\n",
      "        [[-0.0000]],\n",
      "\n",
      "        [[-0.0000]],\n",
      "\n",
      "        [[0.8500]]])\n",
      "tensor([[[0.]],\n",
      "\n",
      "        [[0.]],\n",
      "\n",
      "        [[0.]],\n",
      "\n",
      "        [[0.]],\n",
      "\n",
      "        [[0.]],\n",
      "\n",
      "        [[1.]],\n",
      "\n",
      "        [[0.]],\n",
      "\n",
      "        [[0.]],\n",
      "\n",
      "        [[0.]],\n",
      "\n",
      "        [[0.]]])\n"
     ]
    }
   ],
   "source": [
    "  x,y = next(iter(loader))\n",
    "  pred = model(x)\n",
    "  pred = pred.mean(axis=(2,3), keepdim=True)\n",
    "  truth = onehot(y)\n",
    "  print(np.round(pred[0].detach(),2))\n",
    "  print(truth[0])"
   ]
  },
  {
   "cell_type": "code",
   "execution_count": 248,
   "id": "ed109bed",
   "metadata": {},
   "outputs": [
    {
     "data": {
      "text/plain": [
       "<matplotlib.image.AxesImage at 0x2351b7c9c70>"
      ]
     },
     "execution_count": 248,
     "metadata": {},
     "output_type": "execute_result"
    }
   ],
   "source": [
    "plt.imshow(x[0,0])"
   ]
  },
  {
   "cell_type": "code",
   "execution_count": 182,
   "id": "2a7761fa",
   "metadata": {},
   "outputs": [
    {
     "data": {
      "text/plain": [
       "array([6, 1, 1, 2, 4, 9, 1, 8, 1, 1, 8, 8, 5, 7, 3, 0, 8, 1, 3, 4, 6, 2,\n",
       "       3, 2, 9, 2, 8, 1, 0, 0, 1, 6, 1, 3, 7, 5, 1, 7, 0, 7, 4, 4, 6, 1,\n",
       "       5, 1, 6, 3, 4, 9, 5, 9, 0, 2, 0, 6, 4, 5, 8, 0, 2, 4, 3, 3, 2, 7,\n",
       "       0, 4, 4, 1, 6, 8, 7, 2, 8, 8, 3, 4, 3, 0, 8, 0, 6, 4, 8, 5, 6, 9,\n",
       "       1, 3, 1, 6, 3, 0, 4, 0, 3, 4, 7, 0], dtype=int64)"
      ]
     },
     "execution_count": 182,
     "metadata": {},
     "output_type": "execute_result"
    }
   ],
   "source": [
    "np.argmax(truth,axis=1)"
   ]
  },
  {
   "cell_type": "code",
   "execution_count": 153,
   "id": "18fa69a5",
   "metadata": {},
   "outputs": [
    {
     "data": {
      "text/plain": [
       "torch.Size([1, 10, 28, 28])"
      ]
     },
     "execution_count": 153,
     "metadata": {},
     "output_type": "execute_result"
    }
   ],
   "source": [
    "pred = model(x[[0]])\n",
    "score = pred.mean(axis=(2,3))\n",
    "score.shape"
   ]
  },
  {
   "cell_type": "code",
   "execution_count": 158,
   "id": "48d77d39",
   "metadata": {},
   "outputs": [
    {
     "data": {
      "text/plain": [
       "torch.Size([1, 10])"
      ]
     },
     "execution_count": 158,
     "metadata": {},
     "output_type": "execute_result"
    }
   ],
   "source": []
  },
  {
   "cell_type": "code",
   "execution_count": null,
   "id": "a95294dd",
   "metadata": {},
   "outputs": [],
   "source": []
  },
  {
   "cell_type": "code",
   "execution_count": 155,
   "id": "1699e495",
   "metadata": {},
   "outputs": [
    {
     "data": {
      "text/plain": [
       "<matplotlib.image.AxesImage at 0x2351b75df40>"
      ]
     },
     "execution_count": 155,
     "metadata": {},
     "output_type": "execute_result"
    }
   ],
   "source": [
    "plt.imshow(pred[0,2].detach().numpy())"
   ]
  },
  {
   "cell_type": "code",
   "execution_count": 151,
   "id": "a649a527",
   "metadata": {},
   "outputs": [
    {
     "data": {
      "text/plain": [
       "<matplotlib.image.AxesImage at 0x2351b75d3d0>"
      ]
     },
     "execution_count": 151,
     "metadata": {},
     "output_type": "execute_result"
    }
   ],
   "source": [
    "plt.imshow(pred[1,1].detach().numpy())"
   ]
  },
  {
   "cell_type": "code",
   "execution_count": null,
   "id": "fcf7637e",
   "metadata": {},
   "outputs": [],
   "source": [
    "class SimNumber(Dataset):\n",
    "    def __init__(self, count=10, transform=None):\n",
    "        self.count = count\n",
    "        #self.input_images, self.target_masks = generate_random_data(120, 120, count=count)        \n",
    "        self.transform = transform\n",
    "\n",
    "        mnist = datasets.MNIST(root='./data', train=True, download=False, transform=transforms.ToTensor())\n",
    "        loader =torch.utils.data.DataLoader(dataset=mnist, batch_size=1, shuffle=True)\n",
    "\n",
    "        self.dataset = iter(loader)\n",
    "\n",
    "\n",
    "    def __len__(self):\n",
    "        return len(range(self.count))\n",
    "    \n",
    "    def __getitem__(self, idx): \n",
    "        range(self.count)[idx]\n",
    "\n",
    "\n",
    "        image = np.zeros((30,100))\n",
    "        mask  = np.zeros((9,30,100))\n",
    "\n",
    "\n",
    "        for n in range(3):\n",
    "\n",
    "            nx = n*28\n",
    "\n",
    "            im, lb = next(self.dataset)\n",
    "\n",
    "            image[:28, nx:nx+28]    = im\n",
    "            mask[lb, :28, nx:nx+28] = im \n",
    "        \n",
    "\n",
    "        if self.transform: pass\n",
    "        #image = self.transform(image)\n",
    "\n",
    "\n",
    "        image = torch.tensor(image).float()\n",
    "        mask  = torch.tensor(mask).float()\n",
    "        \n",
    "        return [image, mask]"
   ]
  },
  {
   "cell_type": "code",
   "execution_count": null,
   "id": "d92ffcf4",
   "metadata": {},
   "outputs": [],
   "source": [
    "iter_mnist = iter(loader)\n",
    "x = next(iter_mnist)"
   ]
  },
  {
   "cell_type": "code",
   "execution_count": null,
   "id": "2ed17e8c",
   "metadata": {},
   "outputs": [],
   "source": [
    "x,y = next(iter(SimNumber()))"
   ]
  },
  {
   "cell_type": "code",
   "execution_count": null,
   "id": "6e9bc078",
   "metadata": {},
   "outputs": [],
   "source": [
    "import numpy as np\n"
   ]
  },
  {
   "cell_type": "code",
   "execution_count": null,
   "id": "e6991903",
   "metadata": {},
   "outputs": [],
   "source": [
    "plt.imshow(x)"
   ]
  },
  {
   "cell_type": "code",
   "execution_count": null,
   "id": "f51d04b7",
   "metadata": {},
   "outputs": [],
   "source": [
    "plt.imshow(y[3])"
   ]
  },
  {
   "cell_type": "code",
   "execution_count": null,
   "id": "b04b30a1",
   "metadata": {},
   "outputs": [],
   "source": []
  }
 ],
 "metadata": {
  "kernelspec": {
   "display_name": "Python 3",
   "language": "python",
   "name": "python3"
  },
  "language_info": {
   "codemirror_mode": {
    "name": "ipython",
    "version": 3
   },
   "file_extension": ".py",
   "mimetype": "text/x-python",
   "name": "python",
   "nbconvert_exporter": "python",
   "pygments_lexer": "ipython3",
   "version": "3.8.8"
  }
 },
 "nbformat": 4,
 "nbformat_minor": 5
}
