{
 "cells": [
  {
   "cell_type": "code",
   "execution_count": null,
   "id": "1c5321cb",
   "metadata": {},
   "outputs": [],
   "source": [
    "import os\n",
    "os.chdir(\"..\")\n",
    "print(os.getcwd())\n"
   ]
  },
  {
   "cell_type": "code",
   "execution_count": null,
   "id": "29eb4624",
   "metadata": {},
   "outputs": [],
   "source": [
    "%load_ext autoreload\n",
    "%load_ext line_profiler"
   ]
  },
  {
   "cell_type": "code",
   "execution_count": null,
   "id": "ff99539e",
   "metadata": {},
   "outputs": [],
   "source": [
    "%matplotlib qt\n",
    "%autoreload 2"
   ]
  },
  {
   "cell_type": "code",
   "execution_count": null,
   "id": "db854b22",
   "metadata": {},
   "outputs": [],
   "source": [
    "from retna.networks import *\n",
    "from retna.training import *\n",
    "from retna.data_loader import *\n",
    "from retna.view import *\n",
    "from retna.prune import *\n",
    "from retna.hook_tools import *\n",
    "from retna.simulate_data import *"
   ]
  },
  {
   "cell_type": "code",
   "execution_count": null,
   "id": "1d1d251b",
   "metadata": {},
   "outputs": [],
   "source": [
    "import torch\n",
    "import glob as glob\n",
    "import matplotlib.pyplot as plt"
   ]
  },
  {
   "cell_type": "markdown",
   "id": "2248482f",
   "metadata": {},
   "source": [
    "## Load Model"
   ]
  },
  {
   "cell_type": "code",
   "execution_count": null,
   "id": "481ea200",
   "metadata": {},
   "outputs": [],
   "source": [
    "h_chans = [30,30,20,20,20,20]\n",
    "model = Retna_V1(1,6, h_chans)"
   ]
  },
  {
   "cell_type": "code",
   "execution_count": null,
   "id": "b9e8a46e",
   "metadata": {},
   "outputs": [],
   "source": [
    "SimLoader = SimDataset(5)"
   ]
  },
  {
   "cell_type": "code",
   "execution_count": null,
   "id": "65ce5e32",
   "metadata": {},
   "outputs": [],
   "source": [
    "x,y = next(iter(SimLoader))"
   ]
  },
  {
   "cell_type": "code",
   "execution_count": null,
   "id": "983c4b02",
   "metadata": {},
   "outputs": [],
   "source": [
    "plt.figure()\n",
    "plt.imshow(x[0,0])\n",
    "plt.figure()\n",
    "plt.imshow(y[0,2], cmap=\"gray\")"
   ]
  },
  {
   "cell_type": "code",
   "execution_count": null,
   "id": "95091215",
   "metadata": {},
   "outputs": [],
   "source": [
    "train_model_x( model, SimLoader, num_epochs=50 )"
   ]
  },
  {
   "cell_type": "code",
   "execution_count": null,
   "id": "13f5988e",
   "metadata": {},
   "outputs": [],
   "source": [
    "%lprun -f print_mosaic_x print_mosaic_x(SimLoader,model,  n=5)"
   ]
  },
  {
   "cell_type": "code",
   "execution_count": null,
   "id": "a10e33a3",
   "metadata": {},
   "outputs": [],
   "source": [
    "print_comparisons_x(model,SimLoader)"
   ]
  },
  {
   "cell_type": "code",
   "execution_count": null,
   "id": "82c74bda",
   "metadata": {},
   "outputs": [],
   "source": [
    "print_mosaic_x(SimLoader,model,  n=5)"
   ]
  },
  {
   "cell_type": "markdown",
   "id": "9b4c2b0d",
   "metadata": {},
   "source": [
    "## Load Simulated Data into H5 Format"
   ]
  },
  {
   "cell_type": "code",
   "execution_count": null,
   "id": "e65efd9e",
   "metadata": {},
   "outputs": [],
   "source": [
    "image, mask = generate_random_data(120, 120, count=500)\n",
    "#image = image.transpose(0,3,1,2)[:,0:1]"
   ]
  },
  {
   "cell_type": "code",
   "execution_count": null,
   "id": "ae7d74a3",
   "metadata": {},
   "outputs": [],
   "source": [
    "plt.figure()\n",
    "plt.imshow(image[0,0])\n",
    "plt.figure()\n",
    "plt.imshow(mask[0,2])"
   ]
  },
  {
   "cell_type": "code",
   "execution_count": null,
   "id": "d1f6bcb0",
   "metadata": {},
   "outputs": [],
   "source": [
    "root = \"\"  ## Add desination folder here\n",
    "filename = root + \"example_data.h5\""
   ]
  },
  {
   "cell_type": "code",
   "execution_count": null,
   "id": "51fabaf1",
   "metadata": {},
   "outputs": [],
   "source": [
    "import h5py \n",
    "with h5py.File(filename, 'w') as fh:\n",
    "    dset = fh.create_dataset(\"input\", data=image , compression=\"lzf\" )\n",
    "    dset = fh.create_dataset(\"target\", data=mask , compression=\"lzf\" )"
   ]
  },
  {
   "cell_type": "markdown",
   "id": "86873a12",
   "metadata": {},
   "source": [
    "## Load Data from H5 Format"
   ]
  },
  {
   "cell_type": "code",
   "execution_count": null,
   "id": "21c25069",
   "metadata": {},
   "outputs": [],
   "source": [
    "data = H5_Handler([filename], datasets=[\"input\",\"target\"])\n",
    "Loader = DataLoader(data)"
   ]
  },
  {
   "cell_type": "code",
   "execution_count": null,
   "id": "51ac03ed",
   "metadata": {},
   "outputs": [],
   "source": [
    "## Specify what header the target data is in. \n",
    "Loader.dataset.dataset_names[1]= \"target\"  \n",
    "Loader.dataset.channels[1] = None"
   ]
  },
  {
   "cell_type": "code",
   "execution_count": null,
   "id": "4d5ada24",
   "metadata": {},
   "outputs": [],
   "source": [
    "## Specify what header the target data is in. "
   ]
  },
  {
   "cell_type": "code",
   "execution_count": null,
   "id": "71f3a49b",
   "metadata": {},
   "outputs": [],
   "source": [
    "model = model.to(\"cpu\")\n",
    "Loader.dataset.device = \"cpu\""
   ]
  },
  {
   "cell_type": "code",
   "execution_count": null,
   "id": "ab41dc7f",
   "metadata": {},
   "outputs": [],
   "source": [
    "train_model( model, Loader, num_epochs=10 )"
   ]
  },
  {
   "cell_type": "code",
   "execution_count": null,
   "id": "4e3ac13b",
   "metadata": {},
   "outputs": [],
   "source": [
    "print_comparisons(model,Loader)"
   ]
  },
  {
   "cell_type": "code",
   "execution_count": null,
   "id": "24c97768",
   "metadata": {},
   "outputs": [],
   "source": [
    "print_mosaic(Loader,model,m=5,n=10)"
   ]
  },
  {
   "cell_type": "markdown",
   "id": "1eb258eb",
   "metadata": {},
   "source": [
    "## Load Data from Tiff Format"
   ]
  },
  {
   "cell_type": "code",
   "execution_count": null,
   "id": "05e38a56",
   "metadata": {},
   "outputs": [],
   "source": [
    "#wip"
   ]
  },
  {
   "cell_type": "markdown",
   "id": "4836d785",
   "metadata": {},
   "source": [
    "## Load MNIST EXAMPLE"
   ]
  },
  {
   "cell_type": "code",
   "execution_count": null,
   "id": "6c85eb0a",
   "metadata": {},
   "outputs": [],
   "source": [
    "import torch\n",
    "import torchvision.datasets as datasets \n",
    "from torchvision.transforms import transforms"
   ]
  },
  {
   "cell_type": "code",
   "execution_count": null,
   "id": "a8198663",
   "metadata": {},
   "outputs": [],
   "source": [
    "mnist = datasets.MNIST(root='./data', train=True, download=False, transform=transforms.ToTensor())\n",
    "loader =torch.utils.data.DataLoader(dataset=mnist, batch_size=100, shuffle=True)"
   ]
  },
  {
   "cell_type": "code",
   "execution_count": null,
   "id": "51cd0d4a",
   "metadata": {},
   "outputs": [],
   "source": [
    "x,y = next(iter(loader))\n",
    "plt.imshow(x[15,0])"
   ]
  },
  {
   "cell_type": "code",
   "execution_count": null,
   "id": "41d3be1a",
   "metadata": {},
   "outputs": [],
   "source": [
    "h_chans = [30,30,30,20,20,20]\n",
    "model = Retna_V1(1,10, h_chans)"
   ]
  },
  {
   "cell_type": "code",
   "execution_count": null,
   "id": "2658f407",
   "metadata": {},
   "outputs": [],
   "source": []
  },
  {
   "cell_type": "code",
   "execution_count": null,
   "id": "5728030e",
   "metadata": {},
   "outputs": [],
   "source": [
    "def onehot(y):\n",
    "  truth = np.zeros((len(y),10))\n",
    "  for n in range(len(truth)):\n",
    "    truth[n,y[n]] = 1\n",
    "\n",
    "  truth = torch.Tensor(truth)\n",
    "  truth = truth[...,None,None]\n",
    "\n",
    "  return truth\n"
   ]
  },
  {
   "cell_type": "code",
   "execution_count": null,
   "id": "6f5288d2",
   "metadata": {},
   "outputs": [],
   "source": [
    "optimizer = optim.Adam(model.parameters(), lr=1e-3)"
   ]
  },
  {
   "cell_type": "code",
   "execution_count": null,
   "id": "221ca48c",
   "metadata": {},
   "outputs": [],
   "source": [
    "for e in range(1000):\n",
    "\n",
    "  optimizer.zero_grad()\n",
    "  x,y = next(iter(loader))\n",
    "  pred = model(x)\n",
    "  pred = pred.mean(axis=(2,3), keepdim=True)\n",
    "  truth = onehot(y)\n",
    "  loss = dice_loss(pred,truth).mean()\n",
    "  loss.backward()\n",
    "  optimizer.step()\n",
    "\n",
    "  print(loss.detach())"
   ]
  },
  {
   "cell_type": "code",
   "execution_count": null,
   "id": "dc7541d1",
   "metadata": {},
   "outputs": [],
   "source": [
    "pred = model(x)\n",
    "pred = pred.mean(axis=(2,3), keepdim=True)"
   ]
  },
  {
   "cell_type": "code",
   "execution_count": 278,
   "id": "66e946ea",
   "metadata": {},
   "outputs": [
    {
     "name": "stdout",
     "output_type": "stream",
     "text": [
      "tensor([1, 5, 6, 3, 3, 3, 2, 9, 8, 3, 2, 9, 9, 5, 9, 6, 7, 4, 0, 0, 2, 4, 4, 0,\n",
      "        9, 0, 5, 6, 6, 4, 0, 5, 4, 3, 2, 4, 2, 2, 0, 6, 1, 7, 5, 4, 9, 7, 9, 1,\n",
      "        5, 1, 5, 8, 6, 2, 9, 4, 5, 4, 5, 8, 4, 4, 3, 9, 1, 1, 0, 1, 1, 6, 3, 7,\n",
      "        6, 9, 5, 2, 1, 3, 1, 0, 9, 6, 7, 6, 9, 4, 0, 7, 1, 2, 3, 8, 0, 7, 4, 5,\n",
      "        5, 4, 0, 6])\n",
      "tensor([1, 5, 6, 3, 7, 3, 2, 9, 8, 9, 2, 9, 9, 5, 9, 6, 7, 4, 0, 0, 2, 4, 4, 0,\n",
      "        9, 0, 5, 6, 6, 4, 0, 5, 4, 3, 2, 4, 2, 2, 0, 6, 1, 7, 5, 4, 9, 7, 9, 1,\n",
      "        5, 1, 5, 8, 6, 2, 9, 4, 5, 4, 5, 8, 4, 4, 3, 9, 1, 1, 0, 1, 1, 6, 3, 7,\n",
      "        6, 9, 5, 2, 1, 3, 1, 0, 9, 6, 7, 6, 9, 4, 0, 7, 1, 2, 3, 8, 0, 7, 4, 5,\n",
      "        4, 4, 0, 6])\n"
     ]
    }
   ],
   "source": [
    "  x,y = next(iter(loader))\n",
    "  pred = model(x)\n",
    "  pred = pred.mean(axis=(2,3), keepdim=True)\n",
    "  truth = onehot(y)\n",
    "  print(np.argmax(pred.detach(),axis=1)[:,0,0])\n",
    "  print(y)"
   ]
  },
  {
   "cell_type": "code",
   "execution_count": null,
   "id": "ed109bed",
   "metadata": {},
   "outputs": [],
   "source": [
    "plt.imshow(x[7,0])"
   ]
  },
  {
   "cell_type": "code",
   "execution_count": null,
   "id": "2a7761fa",
   "metadata": {},
   "outputs": [],
   "source": [
    "pred = model(x).mean(axis=(2,3))\n",
    "pred[7]"
   ]
  },
  {
   "cell_type": "code",
   "execution_count": null,
   "id": "18fa69a5",
   "metadata": {},
   "outputs": [],
   "source": [
    "pred = model(x[[0]])\n",
    "score = pred.mean(axis=(2,3))\n",
    "score.shape"
   ]
  },
  {
   "cell_type": "code",
   "execution_count": null,
   "id": "48d77d39",
   "metadata": {},
   "outputs": [],
   "source": []
  },
  {
   "cell_type": "code",
   "execution_count": null,
   "id": "a95294dd",
   "metadata": {},
   "outputs": [],
   "source": []
  },
  {
   "cell_type": "code",
   "execution_count": null,
   "id": "1699e495",
   "metadata": {},
   "outputs": [],
   "source": [
    "plt.imshow(pred[0,2].detach().numpy())"
   ]
  },
  {
   "cell_type": "code",
   "execution_count": null,
   "id": "a649a527",
   "metadata": {},
   "outputs": [],
   "source": [
    "plt.imshow(pred[1,1].detach().numpy())"
   ]
  },
  {
   "cell_type": "code",
   "execution_count": null,
   "id": "fcf7637e",
   "metadata": {},
   "outputs": [],
   "source": [
    "class SimNumber(Dataset):\n",
    "    def __init__(self, count=10, transform=None):\n",
    "        self.count = count\n",
    "        #self.input_images, self.target_masks = generate_random_data(120, 120, count=count)        \n",
    "        self.transform = transform\n",
    "\n",
    "        mnist = datasets.MNIST(root='./data', train=True, download=False, transform=transforms.ToTensor())\n",
    "        loader =torch.utils.data.DataLoader(dataset=mnist, batch_size=1, shuffle=True)\n",
    "\n",
    "        self.dataset = iter(loader)\n",
    "\n",
    "\n",
    "    def __len__(self):\n",
    "        return len(range(self.count))\n",
    "    \n",
    "    def __getitem__(self, idx): \n",
    "        range(self.count)[idx]\n",
    "\n",
    "\n",
    "        image = np.zeros((30,100))\n",
    "        mask  = np.zeros((9,30,100))\n",
    "\n",
    "\n",
    "        for n in range(3):\n",
    "\n",
    "            nx = n*28\n",
    "\n",
    "            im, lb = next(self.dataset)\n",
    "\n",
    "            image[:28, nx:nx+28]    = im\n",
    "            mask[lb, :28, nx:nx+28] = im \n",
    "        \n",
    "\n",
    "        if self.transform: pass\n",
    "        #image = self.transform(image)\n",
    "\n",
    "\n",
    "        image = torch.tensor(image).float()\n",
    "        mask  = torch.tensor(mask).float()\n",
    "        \n",
    "        return [image, mask]"
   ]
  },
  {
   "cell_type": "code",
   "execution_count": null,
   "id": "d92ffcf4",
   "metadata": {},
   "outputs": [],
   "source": [
    "iter_mnist = iter(loader)\n",
    "x = next(iter_mnist)"
   ]
  },
  {
   "cell_type": "code",
   "execution_count": null,
   "id": "2ed17e8c",
   "metadata": {},
   "outputs": [],
   "source": [
    "x,y = next(iter(SimNumber()))"
   ]
  },
  {
   "cell_type": "code",
   "execution_count": null,
   "id": "6e9bc078",
   "metadata": {},
   "outputs": [],
   "source": [
    "import numpy as np\n"
   ]
  },
  {
   "cell_type": "code",
   "execution_count": null,
   "id": "e6991903",
   "metadata": {},
   "outputs": [],
   "source": [
    "plt.imshow(x)"
   ]
  },
  {
   "cell_type": "code",
   "execution_count": null,
   "id": "f51d04b7",
   "metadata": {},
   "outputs": [],
   "source": [
    "plt.imshow(y[3])"
   ]
  },
  {
   "cell_type": "code",
   "execution_count": null,
   "id": "b04b30a1",
   "metadata": {},
   "outputs": [],
   "source": []
  }
 ],
 "metadata": {
  "kernelspec": {
   "display_name": "Python 3",
   "language": "python",
   "name": "python3"
  },
  "language_info": {
   "codemirror_mode": {
    "name": "ipython",
    "version": 3
   },
   "file_extension": ".py",
   "mimetype": "text/x-python",
   "name": "python",
   "nbconvert_exporter": "python",
   "pygments_lexer": "ipython3",
   "version": "3.8.8"
  }
 },
 "nbformat": 4,
 "nbformat_minor": 5
}
